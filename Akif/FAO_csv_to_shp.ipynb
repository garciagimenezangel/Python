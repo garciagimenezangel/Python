{
 "cells": [
  {
   "cell_type": "code",
   "execution_count": 1,
   "metadata": {},
   "outputs": [],
   "source": [
    "import pandas as pd\n",
    "import geopandas as gpd\n",
    "import glob\n",
    "import os"
   ]
  },
  {
   "cell_type": "code",
   "execution_count": 2,
   "metadata": {},
   "outputs": [
    {
     "data": {
      "text/plain": [
       "\"\\nexport=fao_csv[['Area','Country']]\\nexport.to_csv('fao/country_shortName.csv',index=False)\\n\""
      ]
     },
     "execution_count": 2,
     "metadata": {},
     "output_type": "execute_result"
    }
   ],
   "source": [
    "'''\n",
    "export=fao_csv[['Area','Country']]\n",
    "export.to_csv('fao/country_shortName.csv',index=False)\n",
    "'''"
   ]
  },
  {
   "cell_type": "code",
   "execution_count": 3,
   "metadata": {},
   "outputs": [],
   "source": [
    "raw_countries=gpd.read_file('../../World_Countries/countries_border.shp')"
   ]
  },
  {
   "cell_type": "code",
   "execution_count": 4,
   "metadata": {},
   "outputs": [
    {
     "data": {
      "text/html": [
       "<div>\n",
       "<style scoped>\n",
       "    .dataframe tbody tr th:only-of-type {\n",
       "        vertical-align: middle;\n",
       "    }\n",
       "\n",
       "    .dataframe tbody tr th {\n",
       "        vertical-align: top;\n",
       "    }\n",
       "\n",
       "    .dataframe thead th {\n",
       "        text-align: right;\n",
       "    }\n",
       "</style>\n",
       "<table border=\"1\" class=\"dataframe\">\n",
       "  <thead>\n",
       "    <tr style=\"text-align: right;\">\n",
       "      <th></th>\n",
       "      <th>GID_0</th>\n",
       "      <th>NAME_0</th>\n",
       "      <th>geometry</th>\n",
       "    </tr>\n",
       "  </thead>\n",
       "  <tbody>\n",
       "    <tr>\n",
       "      <th>0</th>\n",
       "      <td>ABW</td>\n",
       "      <td>Aruba</td>\n",
       "      <td>POLYGON ((-69.97820 12.46986, -69.97847 12.469...</td>\n",
       "    </tr>\n",
       "    <tr>\n",
       "      <th>1</th>\n",
       "      <td>AFG</td>\n",
       "      <td>Afghanistan</td>\n",
       "      <td>POLYGON ((68.52644 31.75435, 68.53852 31.75457...</td>\n",
       "    </tr>\n",
       "    <tr>\n",
       "      <th>2</th>\n",
       "      <td>AGO</td>\n",
       "      <td>Angola</td>\n",
       "      <td>MULTIPOLYGON (((11.73347 -16.67255, 11.73347 -...</td>\n",
       "    </tr>\n",
       "    <tr>\n",
       "      <th>3</th>\n",
       "      <td>AIA</td>\n",
       "      <td>Anguilla</td>\n",
       "      <td>MULTIPOLYGON (((-63.42375 18.58903, -63.42375 ...</td>\n",
       "    </tr>\n",
       "    <tr>\n",
       "      <th>4</th>\n",
       "      <td>ALA</td>\n",
       "      <td>Ã…land</td>\n",
       "      <td>MULTIPOLYGON (((21.32195 59.74986, 21.32195 59...</td>\n",
       "    </tr>\n",
       "  </tbody>\n",
       "</table>\n",
       "</div>"
      ],
      "text/plain": [
       "  GID_0       NAME_0                                           geometry\n",
       "0   ABW        Aruba  POLYGON ((-69.97820 12.46986, -69.97847 12.469...\n",
       "1   AFG  Afghanistan  POLYGON ((68.52644 31.75435, 68.53852 31.75457...\n",
       "2   AGO       Angola  MULTIPOLYGON (((11.73347 -16.67255, 11.73347 -...\n",
       "3   AIA     Anguilla  MULTIPOLYGON (((-63.42375 18.58903, -63.42375 ...\n",
       "4   ALA       Ã…land  MULTIPOLYGON (((21.32195 59.74986, 21.32195 59..."
      ]
     },
     "execution_count": 4,
     "metadata": {},
     "output_type": "execute_result"
    }
   ],
   "source": [
    "raw_countries.head()"
   ]
  },
  {
   "cell_type": "markdown",
   "metadata": {},
   "source": [
    "### Crop Model SHP File Process"
   ]
  },
  {
   "cell_type": "code",
   "execution_count": 27,
   "metadata": {},
   "outputs": [
    {
     "data": {
      "text/plain": [
       "27"
      ]
     },
     "execution_count": 27,
     "metadata": {},
     "output_type": "execute_result"
    }
   ],
   "source": [
    "crops_list=glob.glob('crop_model_from_fao_v2/*csv')\n",
    "len(crops_list)"
   ]
  },
  {
   "cell_type": "code",
   "execution_count": 28,
   "metadata": {},
   "outputs": [],
   "source": [
    "shp_folder='crop_model_from_fao_v2/crop_model_shp/'\n",
    "for crop in crops_list:\n",
    "    crop_csv=pd.read_csv(crop)\n",
    "    #drop China\n",
    "    #crop_csv=crop_csv[crop_csv['Area Code']!=351]\n",
    "    shp_name=os.path.basename(crop).split('.')[0]\n",
    "    den=pd.merge(raw_countries,crop_csv,how='inner', left_on='GID_0', right_on='Country')\n",
    "    den.to_file(f'{shp_folder+shp_name}.shp',driver='ESRI Shapefile')\n",
    "    "
   ]
  },
  {
   "cell_type": "code",
   "execution_count": 39,
   "metadata": {},
   "outputs": [
    {
     "data": {
      "text/plain": [
       "27"
      ]
     },
     "execution_count": 39,
     "metadata": {},
     "output_type": "execute_result"
    }
   ],
   "source": [
    "shp_count=glob.glob('crop_model_from_fao_v2/crop_model_shp/*.shp')\n",
    "shp_count=sorted(shp_count)\n",
    "len(shp_count)"
   ]
  },
  {
   "cell_type": "code",
   "execution_count": 40,
   "metadata": {},
   "outputs": [
    {
     "data": {
      "text/plain": [
       "'crop_model_from_fao_v2/crop_model_shp/crop_model_1992_fao.shp'"
      ]
     },
     "execution_count": 40,
     "metadata": {},
     "output_type": "execute_result"
    }
   ],
   "source": [
    "shp_count[0]"
   ]
  },
  {
   "cell_type": "code",
   "execution_count": 41,
   "metadata": {},
   "outputs": [],
   "source": [
    "trgt_shp=gpd.read_file(shp_count[0])"
   ]
  },
  {
   "cell_type": "code",
   "execution_count": 42,
   "metadata": {},
   "outputs": [
    {
     "data": {
      "text/plain": [
       "<Geographic 2D CRS: EPSG:4326>\n",
       "Name: WGS 84\n",
       "Axis Info [ellipsoidal]:\n",
       "- Lat[north]: Geodetic latitude (degree)\n",
       "- Lon[east]: Geodetic longitude (degree)\n",
       "Area of Use:\n",
       "- name: World\n",
       "- bounds: (-180.0, -90.0, 180.0, 90.0)\n",
       "Datum: World Geodetic System 1984\n",
       "- Ellipsoid: WGS 84\n",
       "- Prime Meridian: Greenwich"
      ]
     },
     "execution_count": 42,
     "metadata": {},
     "output_type": "execute_result"
    }
   ],
   "source": [
    "trgt_shp.crs"
   ]
  },
  {
   "cell_type": "code",
   "execution_count": 43,
   "metadata": {},
   "outputs": [],
   "source": [
    "alt=trgt_shp.to_crs(\"EPSG:4326\")"
   ]
  },
  {
   "cell_type": "code",
   "execution_count": 45,
   "metadata": {},
   "outputs": [
    {
     "data": {
      "text/plain": [
       "GID_0           object\n",
       "NAME_0          object\n",
       "Area            object\n",
       "Country         object\n",
       "Area Code        int64\n",
       "Split_Year     float64\n",
       "What_happe      object\n",
       "Country_sp      object\n",
       "Percentage      object\n",
       "Year           float64\n",
       "Barley         float64\n",
       "Maize          float64\n",
       "Potatoes       float64\n",
       "Rice_paddy     float64\n",
       "Sugar_beet     float64\n",
       "Sugar_cane     float64\n",
       "Sunflower_     float64\n",
       "Wheat          float64\n",
       "Rye            float64\n",
       "Soybeans       float64\n",
       "Rapeseed       float64\n",
       "Maize_gree     float64\n",
       "Oil_palm_f     float64\n",
       "geometry      geometry\n",
       "dtype: object"
      ]
     },
     "execution_count": 45,
     "metadata": {},
     "output_type": "execute_result"
    }
   ],
   "source": [
    "alt.dtypes"
   ]
  },
  {
   "cell_type": "code",
   "execution_count": null,
   "metadata": {},
   "outputs": [],
   "source": []
  },
  {
   "cell_type": "markdown",
   "metadata": {},
   "source": [
    "### Polination Model SHP File Process"
   ]
  },
  {
   "cell_type": "code",
   "execution_count": 32,
   "metadata": {},
   "outputs": [
    {
     "data": {
      "text/plain": [
       "27"
      ]
     },
     "execution_count": 32,
     "metadata": {},
     "output_type": "execute_result"
    }
   ],
   "source": [
    "polination_list=glob.glob('polinatior_model_from_fao_v2/*csv')\n",
    "len(polination_list)"
   ]
  },
  {
   "cell_type": "code",
   "execution_count": 34,
   "metadata": {},
   "outputs": [
    {
     "data": {
      "text/plain": [
       "'pollinator_2013_fao'"
      ]
     },
     "execution_count": 34,
     "metadata": {},
     "output_type": "execute_result"
    }
   ],
   "source": [
    "str(os.path.basename(polination_list[0]).split(\".\")[0])"
   ]
  },
  {
   "cell_type": "code",
   "execution_count": 35,
   "metadata": {},
   "outputs": [],
   "source": [
    "shp_folder='polinatior_model_from_fao_v2/polination_shp/'\n",
    "for crop in polination_list:\n",
    "    crop_csv=pd.read_csv(crop)\n",
    "    shp_name=str(os.path.basename(crop).split(\".\")[0])\n",
    "    den=pd.merge(raw_countries,crop_csv,how='inner', left_on='GID_0', right_on='Country')\n",
    "    den.to_file(f'{shp_folder+shp_name}.shp',driver='ESRI Shapefile')"
   ]
  },
  {
   "cell_type": "code",
   "execution_count": 36,
   "metadata": {},
   "outputs": [
    {
     "data": {
      "text/plain": [
       "60"
      ]
     },
     "execution_count": 36,
     "metadata": {},
     "output_type": "execute_result"
    }
   ],
   "source": [
    "shp_count2=glob.glob('polinatior_model_from_fao/polination_shp/*shp')\n",
    "len(shp_count2)"
   ]
  },
  {
   "cell_type": "code",
   "execution_count": null,
   "metadata": {},
   "outputs": [],
   "source": []
  }
 ],
 "metadata": {
  "kernelspec": {
   "display_name": "Python 3",
   "language": "python",
   "name": "python3"
  },
  "language_info": {
   "codemirror_mode": {
    "name": "ipython",
    "version": 3
   },
   "file_extension": ".py",
   "mimetype": "text/x-python",
   "name": "python",
   "nbconvert_exporter": "python",
   "pygments_lexer": "ipython3",
   "version": "3.7.4"
  }
 },
 "nbformat": 4,
 "nbformat_minor": 4
}
